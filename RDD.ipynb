{
  "nbformat": 4,
  "nbformat_minor": 0,
  "metadata": {
    "colab": {
      "provenance": [],
      "include_colab_link": true
    },
    "kernelspec": {
      "name": "python3",
      "display_name": "Python 3"
    },
    "language_info": {
      "name": "python"
    }
  },
  "cells": [
    {
      "cell_type": "markdown",
      "metadata": {
        "id": "view-in-github",
        "colab_type": "text"
      },
      "source": [
        "<a href=\"https://colab.research.google.com/github/sirishaallarapu/PySpark/blob/main/RDD.ipynb\" target=\"_parent\"><img src=\"https://colab.research.google.com/assets/colab-badge.svg\" alt=\"Open In Colab\"/></a>"
      ]
    },
    {
      "cell_type": "code",
      "execution_count": null,
      "metadata": {
        "colab": {
          "base_uri": "https://localhost:8080/"
        },
        "id": "u9JyOOaZC33Q",
        "outputId": "135bb478-71ff-4139-ee8f-d29238a5e5a0"
      },
      "outputs": [
        {
          "output_type": "stream",
          "name": "stdout",
          "text": [
            "[('Nagendra', 33), ('Sirisha', 29)]\n",
            "+--------+---+\n",
            "|    Name|Age|\n",
            "+--------+---+\n",
            "|Nagendra| 28|\n",
            "| Sirisha| 24|\n",
            "+--------+---+\n",
            "\n",
            "+----+---+\n",
            "|Name|Age|\n",
            "+----+---+\n",
            "+----+---+\n",
            "\n",
            "root\n",
            " |-- Name: string (nullable = true)\n",
            " |-- Age: integer (nullable = true)\n",
            "\n",
            "+--------+---+\n",
            "|    Name|Age|\n",
            "+--------+---+\n",
            "|Nagendra| 28|\n",
            "| Sirisha| 24|\n",
            "+--------+---+\n",
            "\n",
            "+--------+\n",
            "|    Name|\n",
            "+--------+\n",
            "|Nagendra|\n",
            "| Sirisha|\n",
            "+--------+\n",
            "\n"
          ]
        }
      ],
      "source": [
        "from pyspark.sql import SparkSession\n",
        "from pyspark.sql.types import StructType, StructField, StringType, IntegerType\n",
        "\n",
        "spark = SparkSession.builder.appName(\"Spark Examples\").getOrCreate()\n",
        "sc = spark.sparkContext\n",
        "\n",
        "data = [(\"Nagendra\", 28), (\"Sirisha\", 24)]\n",
        "rdd = sc.parallelize(data)\n",
        "\n",
        "mapped_rdd = rdd.map(lambda x: (x[0], x[1] + 5))\n",
        "print(mapped_rdd.collect())\n",
        "\n",
        "df = spark.createDataFrame(rdd, [\"Name\", \"Age\"])\n",
        "df.show()\n",
        "df.filter(df.Age > 30).show()\n",
        "\n",
        "schema = StructType([\n",
        "    StructField(\"Name\", StringType(), True),\n",
        "    StructField(\"Age\", IntegerType(), True)\n",
        "])\n",
        "\n",
        "df_with_schema = spark.createDataFrame(data, schema=schema)\n",
        "df_with_schema.printSchema()\n",
        "df_with_schema.show()\n",
        "df_with_schema.select(\"Name\").show()\n",
        "\n"
      ]
    },
    {
      "cell_type": "code",
      "source": [
        "df = spark.createDataFrame(rdd, [\"Name\", \"Age\"])\n",
        "df.show()"
      ],
      "metadata": {
        "colab": {
          "base_uri": "https://localhost:8080/"
        },
        "id": "9l-YnxXDDmmh",
        "outputId": "d1406f87-f26d-468b-f67c-7427097c2975"
      },
      "execution_count": null,
      "outputs": [
        {
          "output_type": "stream",
          "name": "stdout",
          "text": [
            "+--------+---+\n",
            "|    Name|Age|\n",
            "+--------+---+\n",
            "|Nagendra| 28|\n",
            "| Sirisha| 24|\n",
            "+--------+---+\n",
            "\n"
          ]
        }
      ]
    },
    {
      "cell_type": "code",
      "source": [
        "df.withColumn(\"NewAge\", df.Age + 5).show()"
      ],
      "metadata": {
        "colab": {
          "base_uri": "https://localhost:8080/"
        },
        "id": "Rho2a5WSDvul",
        "outputId": "124e9210-6ba0-4507-870f-0161b0111e0f"
      },
      "execution_count": null,
      "outputs": [
        {
          "output_type": "stream",
          "name": "stdout",
          "text": [
            "+--------+---+------+\n",
            "|    Name|Age|NewAge|\n",
            "+--------+---+------+\n",
            "|Nagendra| 28|    33|\n",
            "| Sirisha| 24|    29|\n",
            "+--------+---+------+\n",
            "\n"
          ]
        }
      ]
    },
    {
      "cell_type": "code",
      "source": [
        "from pyspark.sql.types import StructType, StructField, StringType, IntegerType\n",
        "\n",
        "schema = StructType([\n",
        "    StructField(\"Name\", StringType(), True),\n",
        "    StructField(\"Age\", IntegerType(), True)\n",
        "])\n",
        "\n",
        "data = [(\"Nagendra\", 28), (\"Sirisha\", 32), (\"Kiran\", 35)]\n",
        "df = spark.createDataFrame(data, schema=schema)\n",
        "\n",
        "df.printSchema()\n",
        "df.show()\n",
        "\n",
        "df.orderBy(df.Age.desc()).show()\n",
        "df.agg({\"Age\": \"avg\"}).show()\n"
      ],
      "metadata": {
        "colab": {
          "base_uri": "https://localhost:8080/"
        },
        "id": "Wg46vprsD37Q",
        "outputId": "823787d3-b50c-43d2-9fb2-0b9f18117de2"
      },
      "execution_count": null,
      "outputs": [
        {
          "output_type": "stream",
          "name": "stdout",
          "text": [
            "root\n",
            " |-- Name: string (nullable = true)\n",
            " |-- Age: integer (nullable = true)\n",
            "\n",
            "+--------+---+\n",
            "|    Name|Age|\n",
            "+--------+---+\n",
            "|Nagendra| 28|\n",
            "| Sirisha| 32|\n",
            "|   Kiran| 35|\n",
            "+--------+---+\n",
            "\n",
            "+--------+---+\n",
            "|    Name|Age|\n",
            "+--------+---+\n",
            "|   Kiran| 35|\n",
            "| Sirisha| 32|\n",
            "|Nagendra| 28|\n",
            "+--------+---+\n",
            "\n",
            "+------------------+\n",
            "|          avg(Age)|\n",
            "+------------------+\n",
            "|31.666666666666668|\n",
            "+------------------+\n",
            "\n"
          ]
        }
      ]
    },
    {
      "cell_type": "code",
      "source": [
        "df.createOrReplaceTempView(\"people\")\n",
        "\n",
        "result = spark.sql(\"SELECT Name, Age FROM people WHERE Age > 30\")\n",
        "result.show()"
      ],
      "metadata": {
        "colab": {
          "base_uri": "https://localhost:8080/"
        },
        "id": "7G8Ven3qD9li",
        "outputId": "e4057718-59d9-425f-b901-d0c39e69d86b"
      },
      "execution_count": null,
      "outputs": [
        {
          "output_type": "stream",
          "name": "stdout",
          "text": [
            "+-------+---+\n",
            "|   Name|Age|\n",
            "+-------+---+\n",
            "|Sirisha| 32|\n",
            "|  Kiran| 35|\n",
            "+-------+---+\n",
            "\n"
          ]
        }
      ]
    },
    {
      "cell_type": "code",
      "source": [
        "df.write.json(\"people.json\")\n",
        "\n",
        "df_json = spark.read.json(\"people.json\")\n",
        "df_json.show()\n"
      ],
      "metadata": {
        "colab": {
          "base_uri": "https://localhost:8080/"
        },
        "id": "0DIYmK8hEBWF",
        "outputId": "3120f38f-f9b9-4358-b340-5f9197f9b253"
      },
      "execution_count": null,
      "outputs": [
        {
          "output_type": "stream",
          "name": "stdout",
          "text": [
            "+---+--------+\n",
            "|Age|    Name|\n",
            "+---+--------+\n",
            "| 32| Sirisha|\n",
            "| 35|   Kiran|\n",
            "| 28|Nagendra|\n",
            "+---+--------+\n",
            "\n"
          ]
        }
      ]
    },
    {
      "cell_type": "code",
      "source": [
        "sales_data = [\n",
        "    (\"Nagendra\", \"Electronics\", 200),\n",
        "    (\"Sirisha\", \"Clothing\", 150),\n",
        "    (\"Nagendra\", \"Groceries\", 100),\n",
        "    (\"Sirisha\", \"Electronics\", 300),\n",
        "    (\"Nagendra\", \"Clothing\", 250)\n",
        "]\n",
        "\n",
        "rdd = sc.parallelize(sales_data)\n",
        "\n",
        "total_sales = rdd.map(lambda x: (x[0], x[2])).reduceByKey(lambda a, b: a + b)\n",
        "print(\"Total sales per customer:\", total_sales.collect())\n"
      ],
      "metadata": {
        "colab": {
          "base_uri": "https://localhost:8080/"
        },
        "id": "t647_wfrEEec",
        "outputId": "da401812-d214-4a51-b179-441d7bd378d1"
      },
      "execution_count": null,
      "outputs": [
        {
          "output_type": "stream",
          "name": "stdout",
          "text": [
            "Total sales per customer: [('Nagendra', 550), ('Sirisha', 450)]\n"
          ]
        }
      ]
    },
    {
      "cell_type": "code",
      "source": [
        "tweets_data = [\n",
        "    (\"Nagendra\", \"Learning #Spark is amazing!\"),\n",
        "    (\"Sirisha\", \"Big data with #Hadoop and #Spark\"),\n",
        "    (\"Nagendra\", \"Exploring #AI and #MachineLearning\"),\n",
        "    (\"Sirisha\", \"Data Science with #Python and #Spark\")\n",
        "]\n",
        "\n",
        "rdd = sc.parallelize(tweets_data)\n",
        "\n",
        "hashtags = rdd.flatMap(lambda x: x[1].split(\" \")).filter(lambda word: word.startswith(\"#\"))\n",
        "hashtag_counts = hashtags.map(lambda x: (x, 1)).reduceByKey(lambda a, b: a + b)\n",
        "\n",
        "print(\"Hashtag counts:\", hashtag_counts.collect())\n"
      ],
      "metadata": {
        "colab": {
          "base_uri": "https://localhost:8080/"
        },
        "id": "SwaWHzVFEm1N",
        "outputId": "2093efea-408c-405f-ce07-40171ef5cce7"
      },
      "execution_count": null,
      "outputs": [
        {
          "output_type": "stream",
          "name": "stdout",
          "text": [
            "Hashtag counts: [('#Spark', 3), ('#Hadoop', 1), ('#AI', 1), ('#MachineLearning', 1), ('#Python', 1)]\n"
          ]
        }
      ]
    },
    {
      "cell_type": "code",
      "source": [
        "employees_rdd = sc.parallelize([\n",
        "    (\"Nagendra\", \"IT\", 70000),\n",
        "    (\"Sirisha\", \"HR\", 65000),\n",
        "    (\"Kiran\", \"Finance\", 80000),\n",
        "    (\"Nagendra\", \"IT\", 75000),\n",
        "    (\"Sirisha\", \"HR\", 70000)\n",
        "])\n",
        "\n",
        "high_salary_rdd = employees_rdd.filter(lambda x: x[2] > 70000)\n",
        "print(\"High Salary Employees:\", high_salary_rdd.collect())\n"
      ],
      "metadata": {
        "colab": {
          "base_uri": "https://localhost:8080/"
        },
        "id": "wYaSEOLwE0om",
        "outputId": "c73d0a51-f75e-40c7-d5bf-afcd1454c466"
      },
      "execution_count": null,
      "outputs": [
        {
          "output_type": "stream",
          "name": "stdout",
          "text": [
            "High Salary Employees: [('Kiran', 'Finance', 80000), ('Nagendra', 'IT', 75000)]\n"
          ]
        }
      ]
    }
  ]
}