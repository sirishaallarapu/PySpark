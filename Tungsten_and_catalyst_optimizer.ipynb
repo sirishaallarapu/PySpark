{
  "nbformat": 4,
  "nbformat_minor": 0,
  "metadata": {
    "colab": {
      "provenance": [],
      "include_colab_link": true
    },
    "kernelspec": {
      "name": "python3",
      "display_name": "Python 3"
    },
    "language_info": {
      "name": "python"
    }
  },
  "cells": [
    {
      "cell_type": "markdown",
      "metadata": {
        "id": "view-in-github",
        "colab_type": "text"
      },
      "source": [
        "<a href=\"https://colab.research.google.com/github/sirishaallarapu/PySpark/blob/main/Tungsten_and_catalyst_optimizer.ipynb\" target=\"_parent\"><img src=\"https://colab.research.google.com/assets/colab-badge.svg\" alt=\"Open In Colab\"/></a>"
      ]
    },
    {
      "cell_type": "code",
      "execution_count": null,
      "metadata": {
        "colab": {
          "base_uri": "https://localhost:8080/"
        },
        "id": "AP7Zmy_9KH4T",
        "outputId": "f7fee95f-f7c0-4a5b-8c07-1d541c760186"
      },
      "outputs": [
        {
          "output_type": "stream",
          "name": "stdout",
          "text": [
            "+-----+---+\n",
            "| Name|Age|\n",
            "+-----+---+\n",
            "| Siri| 25|\n",
            "|Glory| 30|\n",
            "| Nani| 35|\n",
            "+-----+---+\n",
            "\n"
          ]
        }
      ],
      "source": [
        "from pyspark.sql import SparkSession\n",
        "\n",
        "spark = SparkSession.builder.appName(\"PySpark\").getOrCreate()\n",
        "\n",
        "data = [(\"Siri\", 25), (\"Glory\", 30), (\"Nani\", 35)]\n",
        "columns = [\"Name\", \"Age\"]\n",
        "df = spark.createDataFrame(data, columns)\n",
        "\n",
        "df.show()\n"
      ]
    },
    {
      "cell_type": "code",
      "source": [
        "from pyspark.sql.functions import col\n",
        "\n",
        "large_df = spark.range(1, 1000000)\n",
        "\n",
        "result_df = large_df.select((col(\"id\") * 2).alias(\"double_id\"))\n",
        "\n",
        "result_df.show(5)\n"
      ],
      "metadata": {
        "colab": {
          "base_uri": "https://localhost:8080/"
        },
        "id": "sec_hemvKnhN",
        "outputId": "4528190d-a787-49a5-b788-fb2575020673"
      },
      "execution_count": null,
      "outputs": [
        {
          "output_type": "stream",
          "name": "stdout",
          "text": [
            "+---------+\n",
            "|double_id|\n",
            "+---------+\n",
            "|        2|\n",
            "|        4|\n",
            "|        6|\n",
            "|        8|\n",
            "|       10|\n",
            "+---------+\n",
            "only showing top 5 rows\n",
            "\n"
          ]
        }
      ]
    },
    {
      "cell_type": "code",
      "source": [
        "df.createOrReplaceTempView(\"people\")\n",
        "\n",
        "optimized_df = spark.sql(\"SELECT Name FROM people WHERE Age > 28\")\n",
        "\n",
        "optimized_df.show()\n"
      ],
      "metadata": {
        "colab": {
          "base_uri": "https://localhost:8080/"
        },
        "id": "kEMT1mxrKz-4",
        "outputId": "6bcf6177-a4d1-4759-de72-38723a32b758"
      },
      "execution_count": null,
      "outputs": [
        {
          "output_type": "stream",
          "name": "stdout",
          "text": [
            "+-----+\n",
            "| Name|\n",
            "+-----+\n",
            "|Glory|\n",
            "| Nani|\n",
            "+-----+\n",
            "\n"
          ]
        }
      ]
    },
    {
      "cell_type": "code",
      "source": [
        "from pyspark.sql import SparkSession\n",
        "from pyspark.sql.functions import col, lit\n",
        "\n",
        "spark = SparkSession.builder.appName(\"PySparkPractice\").getOrCreate()\n",
        "\n",
        "data = [(\"John\", \"Engineering\", 60000),\n",
        "        (\"Sarah\", \"Marketing\", 75000),\n",
        "        (\"Michael\", \"Finance\", 80000)]\n",
        "\n",
        "columns = [\"Name\", \"Department\", \"Salary\"]\n",
        "\n",
        "df = spark.createDataFrame(data, columns)\n",
        "\n",
        "df.show()\n",
        "\n",
        "df_filtered = df.filter(col(\"Salary\") > 65000)\n",
        "df_filtered.show()\n",
        "\n",
        "df_with_bonus = df.withColumn(\"Bonus\", col(\"Salary\") * 0.1)\n",
        "df_with_bonus.show()\n",
        "\n",
        "df_with_new_col = df.withColumn(\"Location\", lit(\"New York\"))\n",
        "df_with_new_col.show()\n",
        "\n"
      ],
      "metadata": {
        "colab": {
          "base_uri": "https://localhost:8080/"
        },
        "id": "GwVxu-HVK39y",
        "outputId": "4f31effd-5cd8-49e1-e4f3-0de4d8dca014"
      },
      "execution_count": null,
      "outputs": [
        {
          "output_type": "stream",
          "name": "stdout",
          "text": [
            "+-------+-----------+------+\n",
            "|   Name| Department|Salary|\n",
            "+-------+-----------+------+\n",
            "|   John|Engineering| 60000|\n",
            "|  Sarah|  Marketing| 75000|\n",
            "|Michael|    Finance| 80000|\n",
            "+-------+-----------+------+\n",
            "\n",
            "+-------+----------+------+\n",
            "|   Name|Department|Salary|\n",
            "+-------+----------+------+\n",
            "|  Sarah| Marketing| 75000|\n",
            "|Michael|   Finance| 80000|\n",
            "+-------+----------+------+\n",
            "\n",
            "+-------+-----------+------+------+\n",
            "|   Name| Department|Salary| Bonus|\n",
            "+-------+-----------+------+------+\n",
            "|   John|Engineering| 60000|6000.0|\n",
            "|  Sarah|  Marketing| 75000|7500.0|\n",
            "|Michael|    Finance| 80000|8000.0|\n",
            "+-------+-----------+------+------+\n",
            "\n",
            "+-------+-----------+------+--------+\n",
            "|   Name| Department|Salary|Location|\n",
            "+-------+-----------+------+--------+\n",
            "|   John|Engineering| 60000|New York|\n",
            "|  Sarah|  Marketing| 75000|New York|\n",
            "|Michael|    Finance| 80000|New York|\n",
            "+-------+-----------+------+--------+\n",
            "\n"
          ]
        }
      ]
    },
    {
      "cell_type": "code",
      "source": [
        "df.createOrReplaceTempView(\"employees\")\n",
        "\n",
        "query_result = spark.sql(\"SELECT Name, Salary FROM employees WHERE Salary > 65000\")\n",
        "\n",
        "query_result.show()\n"
      ],
      "metadata": {
        "colab": {
          "base_uri": "https://localhost:8080/"
        },
        "id": "kxNV78MULDQF",
        "outputId": "08dd0cb2-3447-4bfb-e4b8-d7a6310b96f3"
      },
      "execution_count": null,
      "outputs": [
        {
          "output_type": "stream",
          "name": "stdout",
          "text": [
            "+-------+------+\n",
            "|   Name|Salary|\n",
            "+-------+------+\n",
            "|  Sarah| 75000|\n",
            "|Michael| 80000|\n",
            "+-------+------+\n",
            "\n"
          ]
        }
      ]
    },
    {
      "cell_type": "code",
      "source": [
        "large_df = spark.range(1, 10000000)\n",
        "\n",
        "optimized_result = large_df.select((col(\"id\") * 3 + 10).alias(\"calculated_value\"))\n",
        "\n",
        "optimized_result.show(5)\n",
        "\n"
      ],
      "metadata": {
        "colab": {
          "base_uri": "https://localhost:8080/"
        },
        "id": "8IEWhwBuLOwc",
        "outputId": "4c756494-8003-456f-a912-3e1a72e7fef7"
      },
      "execution_count": null,
      "outputs": [
        {
          "output_type": "stream",
          "name": "stdout",
          "text": [
            "+----------------+\n",
            "|calculated_value|\n",
            "+----------------+\n",
            "|              13|\n",
            "|              16|\n",
            "|              19|\n",
            "|              22|\n",
            "|              25|\n",
            "+----------------+\n",
            "only showing top 5 rows\n",
            "\n"
          ]
        }
      ]
    },
    {
      "cell_type": "code",
      "source": [
        "data = [(\"Finance\", 80000),\n",
        "        (\"Marketing\", 75000),\n",
        "        (\"Finance\", 90000),\n",
        "        (\"Engineering\", 70000),\n",
        "        (\"Marketing\", 72000)]\n",
        "\n",
        "columns = [\"Department\", \"Salary\"]\n",
        "\n",
        "df = spark.createDataFrame(data, columns)\n",
        "\n",
        "df_grouped = df.groupBy(\"Department\").avg(\"Salary\")\n",
        "df_grouped.show()\n",
        "\n",
        "df_count = df.groupBy(\"Department\").count()\n",
        "df_count.show()\n"
      ],
      "metadata": {
        "colab": {
          "base_uri": "https://localhost:8080/"
        },
        "id": "Ra5K9zLBLZlP",
        "outputId": "ab37bf6d-726d-4442-8c7b-7e02ccbbee07"
      },
      "execution_count": null,
      "outputs": [
        {
          "output_type": "stream",
          "name": "stdout",
          "text": [
            "+-----------+-----------+\n",
            "| Department|avg(Salary)|\n",
            "+-----------+-----------+\n",
            "|    Finance|    85000.0|\n",
            "|  Marketing|    73500.0|\n",
            "|Engineering|    70000.0|\n",
            "+-----------+-----------+\n",
            "\n",
            "+-----------+-----+\n",
            "| Department|count|\n",
            "+-----------+-----+\n",
            "|    Finance|    2|\n",
            "|  Marketing|    2|\n",
            "|Engineering|    1|\n",
            "+-----------+-----+\n",
            "\n"
          ]
        }
      ]
    },
    {
      "cell_type": "code",
      "source": [
        "from pyspark.sql import SparkSession\n",
        "from pyspark.sql.functions import col\n",
        "\n",
        "spark = SparkSession.builder.appName(\"TungstenOptimization\").getOrCreate()\n",
        "\n",
        "data = [(\"Apple\", \"Fruit\", 52),\n",
        "        (\"Banana\", \"Fruit\", 89),\n",
        "        (\"Carrot\", \"Vegetable\", 41),\n",
        "        (\"Tomato\", \"Vegetable\", 18),\n",
        "        (\"Mango\", \"Fruit\", 60),\n",
        "        (\"Broccoli\", \"Vegetable\", 55)]\n",
        "\n",
        "columns = [\"Name\", \"Type\", \"Calories\"]\n",
        "\n",
        "df = spark.createDataFrame(data, columns)\n",
        "\n",
        "optimized_df = df.withColumn(\"Calories_Doubled\", col(\"Calories\") * 2)\n",
        "\n",
        "optimized_df.show()\n",
        "\n",
        "\n",
        "\n"
      ],
      "metadata": {
        "colab": {
          "base_uri": "https://localhost:8080/"
        },
        "id": "pVYyXZSoLfIP",
        "outputId": "1dffaf1a-974c-414c-b62c-74b3a63a7390"
      },
      "execution_count": null,
      "outputs": [
        {
          "output_type": "stream",
          "name": "stdout",
          "text": [
            "+--------+---------+--------+----------------+\n",
            "|    Name|     Type|Calories|Calories_Doubled|\n",
            "+--------+---------+--------+----------------+\n",
            "|   Apple|    Fruit|      52|             104|\n",
            "|  Banana|    Fruit|      89|             178|\n",
            "|  Carrot|Vegetable|      41|              82|\n",
            "|  Tomato|Vegetable|      18|              36|\n",
            "|   Mango|    Fruit|      60|             120|\n",
            "|Broccoli|Vegetable|      55|             110|\n",
            "+--------+---------+--------+----------------+\n",
            "\n"
          ]
        }
      ]
    },
    {
      "cell_type": "code",
      "source": [
        "df.createOrReplaceTempView(\"foods\")\n",
        "\n",
        "optimized_query = spark.sql(\"SELECT Name, Calories FROM foods WHERE Calories > 50\")\n",
        "\n",
        "optimized_query.show()\n",
        "\n",
        "optimized_query.explain(mode=\"formatted\")\n"
      ],
      "metadata": {
        "colab": {
          "base_uri": "https://localhost:8080/"
        },
        "id": "Ji-5UkdDMRL-",
        "outputId": "1e8ad0c6-2d37-4bd7-baf0-6a1fd5b12d1a"
      },
      "execution_count": null,
      "outputs": [
        {
          "output_type": "stream",
          "name": "stdout",
          "text": [
            "+--------+--------+\n",
            "|    Name|Calories|\n",
            "+--------+--------+\n",
            "|   Apple|      52|\n",
            "|  Banana|      89|\n",
            "|   Mango|      60|\n",
            "|Broccoli|      55|\n",
            "+--------+--------+\n",
            "\n",
            "== Physical Plan ==\n",
            "* Project (3)\n",
            "+- * Filter (2)\n",
            "   +- * Scan ExistingRDD (1)\n",
            "\n",
            "\n",
            "(1) Scan ExistingRDD [codegen id : 1]\n",
            "Output [3]: [Name#229, Type#230, Calories#231L]\n",
            "Arguments: [Name#229, Type#230, Calories#231L], MapPartitionsRDD[73] at applySchemaToPythonRDD at NativeMethodAccessorImpl.java:0, ExistingRDD, UnknownPartitioning(0)\n",
            "\n",
            "(2) Filter [codegen id : 1]\n",
            "Input [3]: [Name#229, Type#230, Calories#231L]\n",
            "Condition : (isnotnull(Calories#231L) AND (Calories#231L > 50))\n",
            "\n",
            "(3) Project [codegen id : 1]\n",
            "Output [2]: [Name#229, Calories#231L]\n",
            "Input [3]: [Name#229, Type#230, Calories#231L]\n",
            "\n",
            "\n"
          ]
        }
      ]
    },
    {
      "cell_type": "code",
      "source": [
        "large_data = [(\"Apple\", \"Fruit\", 52 + i) for i in range(1, 1000000)]\n",
        "\n",
        "large_df = spark.createDataFrame(large_data, columns)\n",
        "\n",
        "filtered_df = large_df.filter(col(\"Calories\") > 1000)\n",
        "\n",
        "filtered_df.explain(mode=\"formatted\")\n"
      ],
      "metadata": {
        "colab": {
          "base_uri": "https://localhost:8080/"
        },
        "id": "7E7fIaavMCdU",
        "outputId": "dbd88afd-030b-4b3d-de67-17cdf081aec8"
      },
      "execution_count": null,
      "outputs": [
        {
          "output_type": "stream",
          "name": "stdout",
          "text": [
            "== Physical Plan ==\n",
            "* Filter (2)\n",
            "+- * Scan ExistingRDD (1)\n",
            "\n",
            "\n",
            "(1) Scan ExistingRDD [codegen id : 1]\n",
            "Output [3]: [Name#268, Type#269, Calories#270L]\n",
            "Arguments: [Name#268, Type#269, Calories#270L], MapPartitionsRDD[82] at applySchemaToPythonRDD at NativeMethodAccessorImpl.java:0, ExistingRDD, UnknownPartitioning(0)\n",
            "\n",
            "(2) Filter [codegen id : 1]\n",
            "Input [3]: [Name#268, Type#269, Calories#270L]\n",
            "Condition : (isnotnull(Calories#270L) AND (Calories#270L > 1000))\n",
            "\n",
            "\n"
          ]
        }
      ]
    },
    {
      "cell_type": "code",
      "source": [
        "df_transformed = df.withColumn(\"Calories_Doubled\", col(\"Calories\") * 2)\n",
        "\n",
        "df_transformed.explain(mode=\"formatted\")\n",
        "df_transformed.show()\n"
      ],
      "metadata": {
        "colab": {
          "base_uri": "https://localhost:8080/"
        },
        "id": "YCTRthxfMqVa",
        "outputId": "04bb06dc-84df-4685-8945-06d9448452fc"
      },
      "execution_count": null,
      "outputs": [
        {
          "output_type": "stream",
          "name": "stdout",
          "text": [
            "== Physical Plan ==\n",
            "* Project (2)\n",
            "+- * Scan ExistingRDD (1)\n",
            "\n",
            "\n",
            "(1) Scan ExistingRDD [codegen id : 1]\n",
            "Output [3]: [Name#229, Type#230, Calories#231L]\n",
            "Arguments: [Name#229, Type#230, Calories#231L], MapPartitionsRDD[73] at applySchemaToPythonRDD at NativeMethodAccessorImpl.java:0, ExistingRDD, UnknownPartitioning(0)\n",
            "\n",
            "(2) Project [codegen id : 1]\n",
            "Output [4]: [Name#229, Type#230, Calories#231L, (Calories#231L * 2) AS Calories_Doubled#274L]\n",
            "Input [3]: [Name#229, Type#230, Calories#231L]\n",
            "\n",
            "\n",
            "+--------+---------+--------+----------------+\n",
            "|    Name|     Type|Calories|Calories_Doubled|\n",
            "+--------+---------+--------+----------------+\n",
            "|   Apple|    Fruit|      52|             104|\n",
            "|  Banana|    Fruit|      89|             178|\n",
            "|  Carrot|Vegetable|      41|              82|\n",
            "|  Tomato|Vegetable|      18|              36|\n",
            "|   Mango|    Fruit|      60|             120|\n",
            "|Broccoli|Vegetable|      55|             110|\n",
            "+--------+---------+--------+----------------+\n",
            "\n"
          ]
        }
      ]
    },
    {
      "cell_type": "code",
      "source": [
        "df.createOrReplaceTempView(\"foods\")\n",
        "\n",
        "optimized_query = spark.sql(\"SELECT Name FROM foods WHERE Calories > 50\")\n",
        "\n",
        "optimized_query.explain(mode=\"formatted\")\n",
        "optimized_query.show()\n"
      ],
      "metadata": {
        "colab": {
          "base_uri": "https://localhost:8080/"
        },
        "id": "YGLDwCWQMumt",
        "outputId": "bc246c05-7ed5-4ea7-be3c-096dadfe18ac"
      },
      "execution_count": null,
      "outputs": [
        {
          "output_type": "stream",
          "name": "stdout",
          "text": [
            "== Physical Plan ==\n",
            "* Project (3)\n",
            "+- * Filter (2)\n",
            "   +- * Scan ExistingRDD (1)\n",
            "\n",
            "\n",
            "(1) Scan ExistingRDD [codegen id : 1]\n",
            "Output [3]: [Name#229, Type#230, Calories#231L]\n",
            "Arguments: [Name#229, Type#230, Calories#231L], MapPartitionsRDD[73] at applySchemaToPythonRDD at NativeMethodAccessorImpl.java:0, ExistingRDD, UnknownPartitioning(0)\n",
            "\n",
            "(2) Filter [codegen id : 1]\n",
            "Input [3]: [Name#229, Type#230, Calories#231L]\n",
            "Condition : (isnotnull(Calories#231L) AND (Calories#231L > 50))\n",
            "\n",
            "(3) Project [codegen id : 1]\n",
            "Output [1]: [Name#229]\n",
            "Input [3]: [Name#229, Type#230, Calories#231L]\n",
            "\n",
            "\n",
            "+--------+\n",
            "|    Name|\n",
            "+--------+\n",
            "|   Apple|\n",
            "|  Banana|\n",
            "|   Mango|\n",
            "|Broccoli|\n",
            "+--------+\n",
            "\n"
          ]
        }
      ]
    },
    {
      "cell_type": "code",
      "source": [
        "from pyspark.sql.functions import broadcast\n",
        "\n",
        "price_data = [(\"Apple\", 1.2), (\"Banana\", 0.5), (\"Carrot\", 0.8), (\"Tomato\", 1.5), (\"Mango\", 2.0), (\"Broccoli\", 1.8)]\n",
        "price_columns = [\"Name\", \"Price_per_kg\"]\n",
        "\n",
        "df_price = spark.createDataFrame(price_data, price_columns)\n",
        "\n",
        "joined_df = df.join(broadcast(df_price), \"Name\", \"inner\")\n",
        "\n",
        "joined_df.explain(mode=\"formatted\")\n",
        "joined_df.show()\n"
      ],
      "metadata": {
        "colab": {
          "base_uri": "https://localhost:8080/"
        },
        "id": "5G8GW_CqMySp",
        "outputId": "07aa60dc-69b4-4845-a5f8-cf09d666f355"
      },
      "execution_count": null,
      "outputs": [
        {
          "output_type": "stream",
          "name": "stdout",
          "text": [
            "== Physical Plan ==\n",
            "AdaptiveSparkPlan (8)\n",
            "+- Project (7)\n",
            "   +- BroadcastHashJoin Inner BuildRight (6)\n",
            "      :- Filter (2)\n",
            "      :  +- Scan ExistingRDD (1)\n",
            "      +- BroadcastExchange (5)\n",
            "         +- Filter (4)\n",
            "            +- Scan ExistingRDD (3)\n",
            "\n",
            "\n",
            "(1) Scan ExistingRDD\n",
            "Output [3]: [Name#229, Type#230, Calories#231L]\n",
            "Arguments: [Name#229, Type#230, Calories#231L], MapPartitionsRDD[73] at applySchemaToPythonRDD at NativeMethodAccessorImpl.java:0, ExistingRDD, UnknownPartitioning(0)\n",
            "\n",
            "(2) Filter\n",
            "Input [3]: [Name#229, Type#230, Calories#231L]\n",
            "Condition : isnotnull(Name#229)\n",
            "\n",
            "(3) Scan ExistingRDD\n",
            "Output [2]: [Name#302, Price_per_kg#303]\n",
            "Arguments: [Name#302, Price_per_kg#303], MapPartitionsRDD[91] at applySchemaToPythonRDD at NativeMethodAccessorImpl.java:0, ExistingRDD, UnknownPartitioning(0)\n",
            "\n",
            "(4) Filter\n",
            "Input [2]: [Name#302, Price_per_kg#303]\n",
            "Condition : isnotnull(Name#302)\n",
            "\n",
            "(5) BroadcastExchange\n",
            "Input [2]: [Name#302, Price_per_kg#303]\n",
            "Arguments: HashedRelationBroadcastMode(List(input[0, string, false]),false), [plan_id=444]\n",
            "\n",
            "(6) BroadcastHashJoin\n",
            "Left keys [1]: [Name#229]\n",
            "Right keys [1]: [Name#302]\n",
            "Join type: Inner\n",
            "Join condition: None\n",
            "\n",
            "(7) Project\n",
            "Output [4]: [Name#229, Type#230, Calories#231L, Price_per_kg#303]\n",
            "Input [5]: [Name#229, Type#230, Calories#231L, Name#302, Price_per_kg#303]\n",
            "\n",
            "(8) AdaptiveSparkPlan\n",
            "Output [4]: [Name#229, Type#230, Calories#231L, Price_per_kg#303]\n",
            "Arguments: isFinalPlan=false\n",
            "\n",
            "\n",
            "+--------+---------+--------+------------+\n",
            "|    Name|     Type|Calories|Price_per_kg|\n",
            "+--------+---------+--------+------------+\n",
            "|   Apple|    Fruit|      52|         1.2|\n",
            "|  Banana|    Fruit|      89|         0.5|\n",
            "|  Carrot|Vegetable|      41|         0.8|\n",
            "|  Tomato|Vegetable|      18|         1.5|\n",
            "|   Mango|    Fruit|      60|         2.0|\n",
            "|Broccoli|Vegetable|      55|         1.8|\n",
            "+--------+---------+--------+------------+\n",
            "\n"
          ]
        }
      ]
    }
  ]
}