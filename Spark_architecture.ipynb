{
  "nbformat": 4,
  "nbformat_minor": 0,
  "metadata": {
    "colab": {
      "provenance": [],
      "include_colab_link": true
    },
    "kernelspec": {
      "name": "python3",
      "display_name": "Python 3"
    },
    "language_info": {
      "name": "python"
    }
  },
  "cells": [
    {
      "cell_type": "markdown",
      "metadata": {
        "id": "view-in-github",
        "colab_type": "text"
      },
      "source": [
        "<a href=\"https://colab.research.google.com/github/sirishaallarapu/PySpark/blob/main/Spark_architecture.ipynb\" target=\"_parent\"><img src=\"https://colab.research.google.com/assets/colab-badge.svg\" alt=\"Open In Colab\"/></a>"
      ]
    },
    {
      "cell_type": "code",
      "execution_count": null,
      "metadata": {
        "colab": {
          "base_uri": "https://localhost:8080/"
        },
        "id": "7rYTZF060tg9",
        "outputId": "0032723d-1772-4520-a534-f1936deaa559"
      },
      "outputs": [
        {
          "output_type": "stream",
          "name": "stdout",
          "text": [
            "Requirement already satisfied: pyspark in /usr/local/lib/python3.11/dist-packages (3.5.4)\n",
            "Requirement already satisfied: py4j==0.10.9.7 in /usr/local/lib/python3.11/dist-packages (from pyspark) (0.10.9.7)\n",
            "<pyspark.sql.session.SparkSession object at 0x7a34fae94610>\n"
          ]
        }
      ],
      "source": [
        "!pip install pyspark\n",
        "from pyspark.sql import SparkSession\n",
        "\n",
        "spark = SparkSession.builder.appName(\"ColabSpark\").getOrCreate()\n",
        "print(spark)\n"
      ]
    },
    {
      "cell_type": "code",
      "source": [
        "from pyspark.sql import Row\n",
        "\n",
        "data = [Row(id=1, name=\"Nagendra\", age=27),\n",
        "        Row(id=2, name=\"Sirisha\", age=23),\n",
        "        Row(id=3, name=\"Lishi\", age=5)]\n",
        "\n",
        "df = spark.createDataFrame(data)\n",
        "df.show()\n"
      ],
      "metadata": {
        "colab": {
          "base_uri": "https://localhost:8080/"
        },
        "id": "d98LfiEv07C7",
        "outputId": "7adab67c-3841-4271-97c4-75a667ae1dbf"
      },
      "execution_count": null,
      "outputs": [
        {
          "output_type": "stream",
          "name": "stdout",
          "text": [
            "+---+--------+---+\n",
            "| id|    name|age|\n",
            "+---+--------+---+\n",
            "|  1|Nagendra| 27|\n",
            "|  2| Sirisha| 23|\n",
            "|  3|   Lishi|  5|\n",
            "+---+--------+---+\n",
            "\n"
          ]
        }
      ]
    },
    {
      "cell_type": "code",
      "source": [
        "df.select(\"name\", \"age\").show()\n",
        "\n",
        "df.filter(df.age > 22).show()\n"
      ],
      "metadata": {
        "colab": {
          "base_uri": "https://localhost:8080/"
        },
        "id": "BQdP4EhO1i2N",
        "outputId": "e2f27443-3dd1-4d69-fa81-32d5e3fc7ef1"
      },
      "execution_count": null,
      "outputs": [
        {
          "output_type": "stream",
          "name": "stdout",
          "text": [
            "+--------+---+\n",
            "|    name|age|\n",
            "+--------+---+\n",
            "|Nagendra| 27|\n",
            "| Sirisha| 23|\n",
            "|   Lishi|  5|\n",
            "+--------+---+\n",
            "\n",
            "+---+--------+---+\n",
            "| id|    name|age|\n",
            "+---+--------+---+\n",
            "|  1|Nagendra| 27|\n",
            "|  2| Sirisha| 23|\n",
            "+---+--------+---+\n",
            "\n"
          ]
        }
      ]
    },
    {
      "cell_type": "code",
      "source": [
        "df.groupBy(\"age\").count().show()\n"
      ],
      "metadata": {
        "colab": {
          "base_uri": "https://localhost:8080/"
        },
        "id": "Xxaxku5P1r7M",
        "outputId": "99a58142-0766-4498-e7c6-a1ce3881a74c"
      },
      "execution_count": null,
      "outputs": [
        {
          "output_type": "stream",
          "name": "stdout",
          "text": [
            "+---+-----+\n",
            "|age|count|\n",
            "+---+-----+\n",
            "| 27|    1|\n",
            "|  5|    1|\n",
            "| 23|    1|\n",
            "+---+-----+\n",
            "\n"
          ]
        }
      ]
    },
    {
      "cell_type": "code",
      "source": [
        "rdd = spark.sparkContext.parallelize([\"hello world\", \"hello PySpark\", \"hello Spark\"])\n",
        "words = rdd.flatMap(lambda line: line.split(\" \"))\n",
        "word_counts = words.map(lambda word: (word, 1)).reduceByKey(lambda a, b: a + b)\n",
        "word_counts.collect()\n"
      ],
      "metadata": {
        "colab": {
          "base_uri": "https://localhost:8080/"
        },
        "id": "ykScuGWx1xb7",
        "outputId": "db234caa-4d71-4b2a-ee7b-8e5756483f98"
      },
      "execution_count": null,
      "outputs": [
        {
          "output_type": "execute_result",
          "data": {
            "text/plain": [
              "[('hello', 3), ('world', 1), ('PySpark', 1), ('Spark', 1)]"
            ]
          },
          "metadata": {},
          "execution_count": 5
        }
      ]
    },
    {
      "cell_type": "code",
      "source": [
        "sc = spark.sparkContext\n",
        "print(\"Number of Executors:\", sc.defaultParallelism)\n",
        "\n"
      ],
      "metadata": {
        "colab": {
          "base_uri": "https://localhost:8080/"
        },
        "id": "DUgrV02f4Lxe",
        "outputId": "6b74dffd-6959-4757-ed16-41024b7ef899"
      },
      "execution_count": null,
      "outputs": [
        {
          "output_type": "stream",
          "name": "stdout",
          "text": [
            "Number of Executors: 2\n"
          ]
        }
      ]
    },
    {
      "cell_type": "code",
      "source": [
        "rdd = spark.sparkContext.parallelize([1, 2, 3, 4, 5], numSlices=2)\n",
        "\n",
        "squared_rdd = rdd.map(lambda x: x * x)\n",
        "\n",
        "print(squared_rdd.collect())\n"
      ],
      "metadata": {
        "colab": {
          "base_uri": "https://localhost:8080/"
        },
        "id": "tWVOX_dX4Xm0",
        "outputId": "f6b183d7-0ff7-4d6d-c071-d73d8288f6f7"
      },
      "execution_count": null,
      "outputs": [
        {
          "output_type": "stream",
          "name": "stdout",
          "text": [
            "[1, 4, 9, 16, 25]\n"
          ]
        }
      ]
    },
    {
      "cell_type": "code",
      "source": [
        "print(sc.master)\n",
        "\n"
      ],
      "metadata": {
        "colab": {
          "base_uri": "https://localhost:8080/"
        },
        "id": "4IDat8h84ed4",
        "outputId": "f328acff-67f7-4b2e-9dd6-bdecc84a2ba3"
      },
      "execution_count": null,
      "outputs": [
        {
          "output_type": "stream",
          "name": "stdout",
          "text": [
            "local[*]\n"
          ]
        }
      ]
    },
    {
      "cell_type": "code",
      "source": [
        "df.cache()\n",
        "\n",
        "df.count()\n",
        "\n",
        "print(\"Is Cached?\", df.is_cached)\n"
      ],
      "metadata": {
        "colab": {
          "base_uri": "https://localhost:8080/"
        },
        "id": "4fcpEzOH4r09",
        "outputId": "4581f593-7960-4638-cc29-6217219d6d72"
      },
      "execution_count": null,
      "outputs": [
        {
          "output_type": "stream",
          "name": "stdout",
          "text": [
            "Is Cached? True\n"
          ]
        }
      ]
    },
    {
      "cell_type": "code",
      "source": [
        "from pyspark.sql.functions import col\n",
        "\n",
        "data = [(1, \"Alice\", \"Math\"), (2, \"Bob\", \"Science\"), (3, \"Charlie\", \"Math\"), (4, \"David\", \"Science\")]\n",
        "df = spark.createDataFrame(data, [\"id\", \"name\", \"subject\"])\n",
        "\n",
        "df_repartitioned = df.repartition(2)\n",
        "\n",
        "df_repartitioned.groupBy(\"subject\").count().show()\n",
        "\n"
      ],
      "metadata": {
        "colab": {
          "base_uri": "https://localhost:8080/"
        },
        "id": "Ec63Q8cr4xHO",
        "outputId": "e0ddc77d-fa14-48af-88cc-5403e2562033"
      },
      "execution_count": null,
      "outputs": [
        {
          "output_type": "stream",
          "name": "stdout",
          "text": [
            "+-------+-----+\n",
            "|subject|count|\n",
            "+-------+-----+\n",
            "|Science|    2|\n",
            "|   Math|    2|\n",
            "+-------+-----+\n",
            "\n"
          ]
        }
      ]
    },
    {
      "cell_type": "code",
      "source": [
        "print(\"Number of Partitions:\", rdd.getNumPartitions())\n",
        "\n",
        "def print_partition(index, iterator):\n",
        "    return [(\"Partition: \" + str(index), list(iterator))]\n",
        "\n",
        "partition_rdd = rdd.mapPartitionsWithIndex(print_partition)\n",
        "print(partition_rdd.collect())\n"
      ],
      "metadata": {
        "colab": {
          "base_uri": "https://localhost:8080/"
        },
        "id": "qAnUq_7z6Y8t",
        "outputId": "f6eb86b8-7991-4f25-d3f9-16d8c5ec04ad"
      },
      "execution_count": null,
      "outputs": [
        {
          "output_type": "stream",
          "name": "stdout",
          "text": [
            "Number of Partitions: 2\n",
            "[('Partition: 0', [1, 2]), ('Partition: 1', [3, 4, 5])]\n"
          ]
        }
      ]
    },
    {
      "cell_type": "code",
      "source": [],
      "metadata": {
        "id": "lcrFn-Ki6iPV"
      },
      "execution_count": null,
      "outputs": []
    }
  ]
}